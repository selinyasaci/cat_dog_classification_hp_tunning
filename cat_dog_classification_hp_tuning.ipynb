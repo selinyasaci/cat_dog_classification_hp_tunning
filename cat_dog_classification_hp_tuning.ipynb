{
 "cells": [
  {
   "cell_type": "code",
   "execution_count": 4,
   "id": "18f2e36b",
   "metadata": {},
   "outputs": [],
   "source": [
    "from keras import layers\n",
    "from keras.models import Sequential\n",
    "from tensorflow.keras import optimizers\n",
    "import keras_tuner as kt"
   ]
  },
  {
   "cell_type": "code",
   "execution_count": 22,
   "id": "c11389ad",
   "metadata": {},
   "outputs": [],
   "source": [
    "def build_model(hp):\n",
    "    model= Sequential()\n",
    "    \n",
    "    model.add(layers.Conv2D(32,(3,3),activation=\"relu\", input_shape= (150,150,3)))\n",
    "    model.add(layers.MaxPooling2D((2,2)))\n",
    "\n",
    "    model.add(layers.Conv2D(64,(3,3),activation=\"relu\"))\n",
    "    model.add(layers.MaxPooling2D((2,2)))\n",
    "\n",
    "    model.add(layers.Conv2D(128,(3,3),activation=\"relu\"))\n",
    "    model.add(layers.MaxPooling2D((2,2)))\n",
    "\n",
    "    model.add(layers.Conv2D(128,(3,3),activation=\"relu\"))\n",
    "    model.add(layers.MaxPooling2D((2,2)))\n",
    "\n",
    "    model.add(layers.Flatten())\n",
    "\n",
    "    model.add(layers.Dense(units=hp.Choice(\"layer size\",[128,256,512]),activation=\"relu\"))\n",
    "              \n",
    "    model.add(layers.Dense(1,activation=\"sigmoid\"))\n",
    "\n",
    "\n",
    "    model.compile(loss = \"binary_crossentropy\",\n",
    "                  optimizer=optimizers.RMSprop(learning_rate= 1e-4),\n",
    "                  metrics= [\"acc\"])\n",
    "              \n",
    "    return model"
   ]
  },
  {
   "cell_type": "code",
   "execution_count": 23,
   "id": "81cfe848",
   "metadata": {},
   "outputs": [],
   "source": [
    "keras_tuner=kt.RandomSearch( build_model,\n",
    "                             objective=\"val_acc\",\n",
    "                             overwrite=True,\n",
    "                             max_trials=3,\n",
    "                             directory=\"models/parameter_tuning\",\n",
    "                             project_name=\"parameter_tuning\",\n",
    "                            )"
   ]
  },
  {
   "cell_type": "markdown",
   "id": "87b419d3",
   "metadata": {},
   "source": [
    "# data generation"
   ]
  },
  {
   "cell_type": "code",
   "execution_count": 25,
   "id": "3cba9e1b",
   "metadata": {},
   "outputs": [
    {
     "name": "stdout",
     "output_type": "stream",
     "text": [
      "Found 1999 images belonging to 2 classes.\n",
      "Found 1000 images belonging to 2 classes.\n"
     ]
    }
   ],
   "source": [
    "from keras.preprocessing.image import ImageDataGenerator\n",
    "\n",
    "train_datagen=ImageDataGenerator(rescale=1./255)\n",
    "validation_datagen=ImageDataGenerator(rescale=1./255)\n",
    "\n",
    "train_directory=\"dataset/catdog/train\"\n",
    "validation_directory=\"dataset/catdog/validation\"\n",
    "\n",
    "train_generator= train_datagen.flow_from_directory(train_directory,\n",
    "                                                   target_size=(150,150),\n",
    "                                                   batch_size=20,\n",
    "                                                   class_mode= \"binary\")\n",
    "\n",
    "validation_generator= train_datagen.flow_from_directory(validation_directory,\n",
    "                                                        target_size=(150,150),\n",
    "                                                        batch_size=20,\n",
    "                                                        class_mode= \"binary\")"
   ]
  },
  {
   "cell_type": "markdown",
   "id": "d97ee2d9",
   "metadata": {},
   "source": [
    "# keras tuner'ı çalıştırmaya başlayabiliriz."
   ]
  },
  {
   "cell_type": "code",
   "execution_count": null,
   "id": "ffcfa694",
   "metadata": {},
   "outputs": [
    {
     "name": "stdout",
     "output_type": "stream",
     "text": [
      "Trial 1 Complete [00h 22m 42s]\n",
      "val_acc: 0.7609999775886536\n",
      "\n",
      "Best val_acc So Far: 0.7609999775886536\n",
      "Total elapsed time: 00h 25m 04s\n",
      "\n",
      "Search: Running Trial #2\n",
      "\n",
      "Value             |Best Value So Far |Hyperparameter\n",
      "128               |512               |layer size\n",
      "\n",
      "Epoch 1/25\n",
      "100/100 [==============================] - 55s 531ms/step - loss: 0.6925 - acc: 0.5188 - val_loss: 0.6864 - val_acc: 0.6070\n",
      "Epoch 2/25\n",
      "100/100 [==============================] - 49s 485ms/step - loss: 0.6773 - acc: 0.5828 - val_loss: 0.6738 - val_acc: 0.5510\n",
      "Epoch 3/25\n",
      "100/100 [==============================] - 53s 527ms/step - loss: 0.6517 - acc: 0.6288 - val_loss: 0.6510 - val_acc: 0.6080\n",
      "Epoch 4/25\n",
      "100/100 [==============================] - 54s 537ms/step - loss: 0.6204 - acc: 0.6628 - val_loss: 0.6241 - val_acc: 0.6600\n",
      "Epoch 5/25\n",
      "100/100 [==============================] - 56s 550ms/step - loss: 0.5911 - acc: 0.6763 - val_loss: 0.6124 - val_acc: 0.6580\n",
      "Epoch 6/25\n",
      "100/100 [==============================] - 53s 535ms/step - loss: 0.5558 - acc: 0.7204 - val_loss: 0.5941 - val_acc: 0.6530\n",
      "Epoch 7/25\n",
      "100/100 [==============================] - 61s 603ms/step - loss: 0.5358 - acc: 0.7264 - val_loss: 0.6312 - val_acc: 0.6610\n",
      "Epoch 8/25\n",
      "100/100 [==============================] - 59s 586ms/step - loss: 0.5113 - acc: 0.7519 - val_loss: 0.5690 - val_acc: 0.6880\n",
      "Epoch 9/25\n",
      "100/100 [==============================] - ETA: 0s - loss: 0.4960 - acc: 0.7604"
     ]
    }
   ],
   "source": [
    "keras_tuner.search_space_summary()\n",
    "\n",
    "keras_tuner.search(train_generator,\n",
    "                   validation_data=validation_generator,\n",
    "                   epochs=25)\n",
    "best_model=keras_tuner.get_best_models()[0]"
   ]
  },
  {
   "cell_type": "code",
   "execution_count": null,
   "id": "09b711cd",
   "metadata": {},
   "outputs": [],
   "source": [
    "model.save(\"models/cat_dog_hp_tuning.h5\")"
   ]
  }
 ],
 "metadata": {
  "kernelspec": {
   "display_name": "Python 3 (ipykernel)",
   "language": "python",
   "name": "python3"
  },
  "language_info": {
   "codemirror_mode": {
    "name": "ipython",
    "version": 3
   },
   "file_extension": ".py",
   "mimetype": "text/x-python",
   "name": "python",
   "nbconvert_exporter": "python",
   "pygments_lexer": "ipython3",
   "version": "3.9.7"
  }
 },
 "nbformat": 4,
 "nbformat_minor": 5
}
